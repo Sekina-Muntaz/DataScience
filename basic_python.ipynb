{
 "cells": [
  {
   "cell_type": "code",
   "execution_count": 1,
   "metadata": {},
   "outputs": [],
   "source": [
    "x=78.98"
   ]
  },
  {
   "cell_type": "code",
   "execution_count": 2,
   "metadata": {},
   "outputs": [
    {
     "data": {
      "text/plain": [
       "78.98"
      ]
     },
     "execution_count": 2,
     "metadata": {},
     "output_type": "execute_result"
    }
   ],
   "source": [
    "x"
   ]
  },
  {
   "cell_type": "code",
   "execution_count": 3,
   "metadata": {},
   "outputs": [
    {
     "name": "stdout",
     "output_type": "stream",
     "text": [
      "range(20, 120)\n"
     ]
    }
   ],
   "source": [
    "print(range(20,120))\n"
   ]
  },
  {
   "cell_type": "code",
   "execution_count": 43,
   "metadata": {},
   "outputs": [
    {
     "name": "stdout",
     "output_type": "stream",
     "text": [
      "[21, 23, 25, 27, 29, 31, 33, 35, 37, 39, 41, 43, 45, 47, 49, 51, 53, 55, 57, 59, 61, 63, 65, 67, 69, 71, 73, 75, 77, 79, 81, 83, 85, 87, 89, 91, 93, 95, 97, 99, 101, 103, 105, 107, 109, 111, 113, 115, 117, 119]\n"
     ]
    }
   ],
   "source": [
    "a=[]\n",
    "for num in range(20,120):\n",
    "    if num %2!=0:\n",
    "        a.append(num)\n",
    "print(a)\n",
    "    "
   ]
  },
  {
   "cell_type": "code",
   "execution_count": 27,
   "metadata": {},
   "outputs": [
    {
     "name": "stdout",
     "output_type": "stream",
     "text": [
      "{'21': 21, '23': 23, '25': 25, '27': 27, '29': 29, '31': 31, '33': 33, '35': 35, '37': 37, '39': 39, '41': 41, '43': 43, '45': 45, '47': 47, '49': 49, '51': 51, '53': 53, '55': 55, '57': 57, '59': 59, '61': 61, '63': 63, '65': 65, '67': 67, '69': 69, '71': 71, '73': 73, '75': 75, '77': 77, '79': 79, '81': 81, '83': 83, '85': 85, '87': 87, '89': 89, '91': 91, '93': 93, '95': 95, '97': 97, '99': 99, '101': 101, '103': 103, '105': 105, '107': 107, '109': 109, '111': 111, '113': 113, '115': 115, '117': 117, '119': 119}\n"
     ]
    }
   ],
   "source": [
    "b={}\n",
    "for num in range(20,120):\n",
    "    if num %2!=0:\n",
    "        b[str(num)]=num\n",
    "        \n",
    "print(b)"
   ]
  },
  {
   "cell_type": "code",
   "execution_count": 44,
   "metadata": {},
   "outputs": [
    {
     "name": "stdout",
     "output_type": "stream",
     "text": [
      "[1, 4, 9, 16, 25, 36, 49, 64, 81, 100, 121]\n"
     ]
    }
   ],
   "source": [
    "c=[]\n",
    "for num in range(1,12):\n",
    "    square=num*num\n",
    "    c.append(square)\n",
    "print(c)\n",
    "    \n",
    "    \n",
    "\n",
    "    "
   ]
  },
  {
   "cell_type": "code",
   "execution_count": 26,
   "metadata": {},
   "outputs": [
    {
     "name": "stdout",
     "output_type": "stream",
     "text": [
      "[1, 4, 9, 16, 25, 36, 49, 64, 81, 100, 121]\n"
     ]
    }
   ],
   "source": [
    "print(a)"
   ]
  },
  {
   "cell_type": "code",
   "execution_count": 32,
   "metadata": {},
   "outputs": [
    {
     "name": "stdout",
     "output_type": "stream",
     "text": [
      "[1, 4, 9, 16, 25, 36, 49, 64, 81, 100, 121]\n"
     ]
    }
   ],
   "source": [
    "print(c)\n",
    "    "
   ]
  },
  {
   "cell_type": "code",
   "execution_count": 53,
   "metadata": {},
   "outputs": [
    {
     "name": "stdout",
     "output_type": "stream",
     "text": [
      "[1, 4, 9, 16, 21, 23, 25, 27, 29, 31, 33, 35, 36, 37, 39, 41, 43, 45, 47, 49, 51, 53, 55, 57, 59, 61, 63, 64, 65, 67, 69, 71, 73, 75, 77, 79, 81, 83, 85, 87, 89, 91, 93, 95, 97, 99, 100, 101, 103, 105, 107, 109, 111, 113, 115, 117, 119, 121]\n"
     ]
    }
   ],
   "source": [
    "newList=set(a+c+a)\n",
    "print(list(newList))\n",
    "\n",
    "\n",
    "\n",
    "    "
   ]
  },
  {
   "cell_type": "code",
   "execution_count": 55,
   "metadata": {},
   "outputs": [
    {
     "name": "stdout",
     "output_type": "stream",
     "text": [
      "[21, 23, 25, 27, 29, 31, 33, 35, 37, 39, 41, 43, 45, 47, 49, 51, 53, 55, 57, 59, 61, 63, 65, 67, 69, 71, 73, 75, 77, 79, 81, 83, 85, 87, 89, 91, 93, 95, 97, 99, 101, 103, 105, 107, 109, 111, 113, 115, 117, 119]\n"
     ]
    }
   ],
   "source": [
    "comp_list=[num for num in range(20,121) if num %2!=0]\n",
    "print(comp_list)\n",
    "\n",
    "        "
   ]
  },
  {
   "cell_type": "code",
   "execution_count": 57,
   "metadata": {},
   "outputs": [
    {
     "name": "stdout",
     "output_type": "stream",
     "text": [
      "{'21': 21, '23': 23, '25': 25, '27': 27, '29': 29, '31': 31, '33': 33, '35': 35, '37': 37, '39': 39, '41': 41, '43': 43, '45': 45, '47': 47, '49': 49, '51': 51, '53': 53, '55': 55, '57': 57, '59': 59, '61': 61, '63': 63, '65': 65, '67': 67, '69': 69, '71': 71, '73': 73, '75': 75, '77': 77, '79': 79, '81': 81, '83': 83, '85': 85, '87': 87, '89': 89, '91': 91, '93': 93, '95': 95, '97': 97, '99': 99, '101': 101, '103': 103, '105': 105, '107': 107, '109': 109, '111': 111, '113': 113, '115': 115, '117': 117, '119': 119}\n"
     ]
    }
   ],
   "source": [
    "comp_dict={str(num): num for num in range(20,121) if num %2 !=0}\n",
    "print(comp_dict)"
   ]
  },
  {
   "cell_type": "code",
   "execution_count": 58,
   "metadata": {},
   "outputs": [],
   "source": [
    "#This is python"
   ]
  },
  {
   "cell_type": "markdown",
   "metadata": {},
   "source": [
    "# this is python"
   ]
  },
  {
   "cell_type": "markdown",
   "metadata": {},
   "source": [
    "## write less code\n"
   ]
  },
  {
   "cell_type": "markdown",
   "metadata": {},
   "source": [
    "* note"
   ]
  },
  {
   "cell_type": "code",
   "execution_count": 59,
   "metadata": {},
   "outputs": [],
   "source": [
    "import numpy as np"
   ]
  },
  {
   "cell_type": "code",
   "execution_count": null,
   "metadata": {},
   "outputs": [],
   "source": []
  }
 ],
 "metadata": {
  "kernelspec": {
   "display_name": "Python 3",
   "language": "python",
   "name": "python3"
  },
  "language_info": {
   "codemirror_mode": {
    "name": "ipython",
    "version": 3
   },
   "file_extension": ".py",
   "mimetype": "text/x-python",
   "name": "python",
   "nbconvert_exporter": "python",
   "pygments_lexer": "ipython3",
   "version": "3.7.6"
  }
 },
 "nbformat": 4,
 "nbformat_minor": 4
}
